{
  "nbformat": 4,
  "nbformat_minor": 0,
  "metadata": {
    "kernelspec": {
      "display_name": "Python 3",
      "language": "python",
      "name": "python3"
    },
    "language_info": {
      "codemirror_mode": {
        "name": "ipython",
        "version": 3
      },
      "file_extension": ".py",
      "mimetype": "text/x-python",
      "name": "python",
      "nbconvert_exporter": "python",
      "pygments_lexer": "ipython3",
      "version": "3.8.3"
    },
    "colab": {
      "name": "Task_1_Sparks_Foundation.ipynb",
      "provenance": [],
      "collapsed_sections": [
        "C2BWzQkJj73W",
        "i1wbdDYaj73g"
      ]
    }
  },
  "cells": [
    {
      "cell_type": "code",
      "metadata": {
        "id": "IwF3rMv9Jrym"
      },
      "source": [
        ""
      ],
      "execution_count": null,
      "outputs": []
    },
    {
      "cell_type": "markdown",
      "metadata": {
        "id": "7wRF2j-mj729"
      },
      "source": [
        "# Data Science Project @Sparks Foundation (GRIP June21)\n",
        "\n",
        "### Task-1 Score prediction using Supervised ML\n",
        "\n",
        "### Author -  keerthi sai Jahnavi \n",
        "\n",
        "\n"
      ]
    },
    {
      "cell_type": "code",
      "metadata": {
        "id": "N_wf028Gj73J"
      },
      "source": [
        "# Importing necessary Libraries\n",
        "\n",
        "import numpy as np\n",
        "import pandas as pd\n",
        "import sklearn as sk\n",
        "import matplotlib.pyplot as plt\n"
      ],
      "execution_count": 10,
      "outputs": []
    },
    {
      "cell_type": "markdown",
      "metadata": {
        "id": "clR9eyZrj73M"
      },
      "source": [
        "#### Importing Data set"
      ]
    },
    {
      "cell_type": "code",
      "metadata": {
        "id": "2wAUrlrJj73N",
        "colab": {
          "base_uri": "https://localhost:8080/",
          "height": 394
        },
        "outputId": "7f7cc966-9be4-4d0b-f682-a9399e7538d6"
      },
      "source": [
        "data = pd.read_csv(\"/content/sample_data/student_scores - student_scores.csv\")\n",
        "\n",
        "# Reading first 10 data entries\n",
        "data.head(11)"
      ],
      "execution_count": 14,
      "outputs": [
        {
          "output_type": "execute_result",
          "data": {
            "text/html": [
              "<div>\n",
              "<style scoped>\n",
              "    .dataframe tbody tr th:only-of-type {\n",
              "        vertical-align: middle;\n",
              "    }\n",
              "\n",
              "    .dataframe tbody tr th {\n",
              "        vertical-align: top;\n",
              "    }\n",
              "\n",
              "    .dataframe thead th {\n",
              "        text-align: right;\n",
              "    }\n",
              "</style>\n",
              "<table border=\"1\" class=\"dataframe\">\n",
              "  <thead>\n",
              "    <tr style=\"text-align: right;\">\n",
              "      <th></th>\n",
              "      <th>Hours</th>\n",
              "      <th>Scores</th>\n",
              "    </tr>\n",
              "  </thead>\n",
              "  <tbody>\n",
              "    <tr>\n",
              "      <th>0</th>\n",
              "      <td>2.5</td>\n",
              "      <td>21</td>\n",
              "    </tr>\n",
              "    <tr>\n",
              "      <th>1</th>\n",
              "      <td>5.1</td>\n",
              "      <td>47</td>\n",
              "    </tr>\n",
              "    <tr>\n",
              "      <th>2</th>\n",
              "      <td>3.2</td>\n",
              "      <td>27</td>\n",
              "    </tr>\n",
              "    <tr>\n",
              "      <th>3</th>\n",
              "      <td>8.5</td>\n",
              "      <td>75</td>\n",
              "    </tr>\n",
              "    <tr>\n",
              "      <th>4</th>\n",
              "      <td>3.5</td>\n",
              "      <td>30</td>\n",
              "    </tr>\n",
              "    <tr>\n",
              "      <th>5</th>\n",
              "      <td>1.5</td>\n",
              "      <td>20</td>\n",
              "    </tr>\n",
              "    <tr>\n",
              "      <th>6</th>\n",
              "      <td>9.2</td>\n",
              "      <td>88</td>\n",
              "    </tr>\n",
              "    <tr>\n",
              "      <th>7</th>\n",
              "      <td>5.5</td>\n",
              "      <td>60</td>\n",
              "    </tr>\n",
              "    <tr>\n",
              "      <th>8</th>\n",
              "      <td>8.3</td>\n",
              "      <td>81</td>\n",
              "    </tr>\n",
              "    <tr>\n",
              "      <th>9</th>\n",
              "      <td>2.7</td>\n",
              "      <td>25</td>\n",
              "    </tr>\n",
              "    <tr>\n",
              "      <th>10</th>\n",
              "      <td>7.7</td>\n",
              "      <td>85</td>\n",
              "    </tr>\n",
              "  </tbody>\n",
              "</table>\n",
              "</div>"
            ],
            "text/plain": [
              "    Hours  Scores\n",
              "0     2.5      21\n",
              "1     5.1      47\n",
              "2     3.2      27\n",
              "3     8.5      75\n",
              "4     3.5      30\n",
              "5     1.5      20\n",
              "6     9.2      88\n",
              "7     5.5      60\n",
              "8     8.3      81\n",
              "9     2.7      25\n",
              "10    7.7      85"
            ]
          },
          "metadata": {
            "tags": []
          },
          "execution_count": 14
        }
      ]
    },
    {
      "cell_type": "markdown",
      "metadata": {
        "id": "murnBsU-j73Q"
      },
      "source": [
        "### Understanding the Data set "
      ]
    },
    {
      "cell_type": "code",
      "metadata": {
        "id": "olC__Lf4j73S",
        "colab": {
          "base_uri": "https://localhost:8080/"
        },
        "outputId": "05ec0be9-0823-445f-ba51-cb4fd1f89dc8"
      },
      "source": [
        "print(f\"Shape of data     {data.shape}\")"
      ],
      "execution_count": 15,
      "outputs": [
        {
          "output_type": "stream",
          "text": [
            "Shape of data     (25, 2)\n"
          ],
          "name": "stdout"
        }
      ]
    },
    {
      "cell_type": "code",
      "metadata": {
        "id": "upMi10sOj73T",
        "colab": {
          "base_uri": "https://localhost:8080/"
        },
        "outputId": "f83488b2-7ea5-4aef-9027-a764545397e3"
      },
      "source": [
        "print(f\"Total no of values in each column:- \\n{data.count()}\")"
      ],
      "execution_count": 16,
      "outputs": [
        {
          "output_type": "stream",
          "text": [
            "Total no of values in each column:- \n",
            "Hours     25\n",
            "Scores    25\n",
            "dtype: int64\n"
          ],
          "name": "stdout"
        }
      ]
    },
    {
      "cell_type": "code",
      "metadata": {
        "id": "MeJVdIO1j73U",
        "colab": {
          "base_uri": "https://localhost:8080/"
        },
        "outputId": "7dd25d17-8033-4bd8-a1d3-03025b776b79"
      },
      "source": [
        "print(f\"Data desciption \\n{data.describe()}\")"
      ],
      "execution_count": 18,
      "outputs": [
        {
          "output_type": "stream",
          "text": [
            "Data desciption \n",
            "           Hours     Scores\n",
            "count  25.000000  25.000000\n",
            "mean    5.012000  51.480000\n",
            "std     2.525094  25.286887\n",
            "min     1.100000  17.000000\n",
            "25%     2.700000  30.000000\n",
            "50%     4.800000  47.000000\n",
            "75%     7.400000  75.000000\n",
            "max     9.200000  95.000000\n"
          ],
          "name": "stdout"
        }
      ]
    },
    {
      "cell_type": "markdown",
      "metadata": {
        "id": "C2BWzQkJj73W"
      },
      "source": [
        "#### Saving Hours and Scores data in 2D Arrays X and Y"
      ]
    },
    {
      "cell_type": "code",
      "metadata": {
        "id": "u4lxec9Mj73X"
      },
      "source": [
        "x= np.array(data['Hours']).reshape(-1, 1)\n",
        "y = np.array(data['Scores']).reshape(-1,1)"
      ],
      "execution_count": 25,
      "outputs": []
    },
    {
      "cell_type": "code",
      "metadata": {
        "id": "716yVNnYj73Y",
        "colab": {
          "base_uri": "https://localhost:8080/",
          "height": 0
        },
        "outputId": "7c1c1bde-0c23-4b7d-d252-808ce73434b3"
      },
      "source": [
        "# Plotting Distribution of Hours and Scores\n",
        "\n",
        "plt.figure(figsize=(10,6))\n",
        "plt.title(\"No Hours studied VS Percentage Score\", fontsize=\"large\")\n",
        "plt.scatter(x, y, color='green', label= 'Score')\n",
        "plt.xlabel(\"No of Hours Studied\", fontsize= \"large\")\n",
        "plt.ylabel(\"Percentage Score\", fontsize= \"large\")\n",
        "plt.legend()\n",
        "plt.show()"
      ],
      "execution_count": 26,
      "outputs": [
        {
          "output_type": "display_data",
          "data": {
            "image/png": "[encoded data removed]",
            "text/plain": [
              "<Figure size 720x432 with 1 Axes>"
            ]
          },
          "metadata": {
            "tags": [],
            "needs_background": "light"
          }
        }
      ]
    },
    {
      "cell_type": "code",
      "metadata": {
        "id": "xo67oKiLj73Z",
        "colab": {
          "base_uri": "https://localhost:8080/",
          "height": 0
        },
        "outputId": "62aa6821-d8d1-42dc-852d-d706013429d8"
      },
      "source": [
        "data.corr()"
      ],
      "execution_count": 27,
      "outputs": [
        {
          "output_type": "execute_result",
          "data": {
            "text/html": [
              "<div>\n",
              "<style scoped>\n",
              "    .dataframe tbody tr th:only-of-type {\n",
              "        vertical-align: middle;\n",
              "    }\n",
              "\n",
              "    .dataframe tbody tr th {\n",
              "        vertical-align: top;\n",
              "    }\n",
              "\n",
              "    .dataframe thead th {\n",
              "        text-align: right;\n",
              "    }\n",
              "</style>\n",
              "<table border=\"1\" class=\"dataframe\">\n",
              "  <thead>\n",
              "    <tr style=\"text-align: right;\">\n",
              "      <th></th>\n",
              "      <th>Hours</th>\n",
              "      <th>Scores</th>\n",
              "    </tr>\n",
              "  </thead>\n",
              "  <tbody>\n",
              "    <tr>\n",
              "      <th>Hours</th>\n",
              "      <td>1.000000</td>\n",
              "      <td>0.976191</td>\n",
              "    </tr>\n",
              "    <tr>\n",
              "      <th>Scores</th>\n",
              "      <td>0.976191</td>\n",
              "      <td>1.000000</td>\n",
              "    </tr>\n",
              "  </tbody>\n",
              "</table>\n",
              "</div>"
            ],
            "text/plain": [
              "           Hours    Scores\n",
              "Hours   1.000000  0.976191\n",
              "Scores  0.976191  1.000000"
            ]
          },
          "metadata": {
            "tags": []
          },
          "execution_count": 27
        }
      ]
    },
    {
      "cell_type": "markdown",
      "metadata": {
        "id": "zfr6wGp0j73a"
      },
      "source": [
        "High correlation coeffiecient and the above plot show that hours and scores have linear relationship. So we use linear regression model to estimate the percentage score.\n",
        "Linear Regression Equation is: Y = a + bX, where X is the explanatory variable and Y is the dependent variable. \n",
        "The slope of the line is b, and a is the intercept (the value of y when x = 0)."
      ]
    },
    {
      "cell_type": "markdown",
      "metadata": {
        "id": "I0Uqh_EBj73b"
      },
      "source": [
        "### Splitting Data into Training and Testing Set"
      ]
    },
    {
      "cell_type": "code",
      "metadata": {
        "id": "SUdaGP-7j73b",
        "colab": {
          "base_uri": "https://localhost:8080/"
        },
        "outputId": "481c7384-ce47-470a-ff35-5933915234f8"
      },
      "source": [
        "from sklearn.model_selection import train_test_split\n",
        "x_train, x_test, y_train, y_test = sk.model_selection.train_test_split(x, y, test_size=0.33, random_state=42)\n",
        "print(\"Data is successfully Splitted\")"
      ],
      "execution_count": 29,
      "outputs": [
        {
          "output_type": "stream",
          "text": [
            "Data is successfully Splitted\n"
          ],
          "name": "stdout"
        }
      ]
    },
    {
      "cell_type": "markdown",
      "metadata": {
        "id": "CegHrYZwj73d"
      },
      "source": [
        "### Training Data"
      ]
    },
    {
      "cell_type": "code",
      "metadata": {
        "id": "V8ZHAWwEj73d",
        "colab": {
          "base_uri": "https://localhost:8080/"
        },
        "outputId": "a9255228-99bb-42f2-f3fa-0d20eaf5c4fb"
      },
      "source": [
        "from sklearn.linear_model import LinearRegression\n",
        "model = LinearRegression()\n",
        "model.fit(x_train, y_train)\n",
        "\n",
        "print(\"Training Completed\")\n"
      ],
      "execution_count": 30,
      "outputs": [
        {
          "output_type": "stream",
          "text": [
            "Training Completed\n"
          ],
          "name": "stdout"
        }
      ]
    },
    {
      "cell_type": "code",
      "metadata": {
        "id": "3kIsvIO9j73e",
        "colab": {
          "base_uri": "https://localhost:8080/"
        },
        "outputId": "53a7b490-f38c-400d-f284-77c72985dcb8"
      },
      "source": [
        "print('Intercept value is:',model.intercept_)\n",
        "print('Linear coefficient is:',model.coef_)"
      ],
      "execution_count": 31,
      "outputs": [
        {
          "output_type": "stream",
          "text": [
            "Intercept value is: [3.40503018]\n",
            "Linear coefficient is: [[9.65029083]]\n"
          ],
          "name": "stdout"
        }
      ]
    },
    {
      "cell_type": "code",
      "metadata": {
        "id": "uET9i2xcj73f",
        "colab": {
          "base_uri": "https://localhost:8080/",
          "height": 282
        },
        "outputId": "e36f5a2d-d092-4f41-f74b-e925a5343c60"
      },
      "source": [
        "#Fittig data into regression line\n",
        "\n",
        "line = model.coef_*x + model.intercept_\n",
        "plt.scatter(x,y, color=\"green\", label=\"Actual Values\")\n",
        "plt.plot(x, line, label=\"Trained values\")\n",
        "plt.xlabel(\"No of Hours Studied\", fontsize= \"large\")\n",
        "plt.ylabel(\"Percentage Score\", fontsize= \"large\")\n",
        "plt.legend()\n",
        "plt.show()"
      ],
      "execution_count": 43,
      "outputs": [
        {
          "output_type": "display_data",
          "data": {
            "image/png": "[encoded data removed]",
            "text/plain": [
              "<Figure size 432x288 with 1 Axes>"
            ]
          },
          "metadata": {
            "tags": [],
            "needs_background": "light"
          }
        }
      ]
    },
    {
      "cell_type": "markdown",
      "metadata": {
        "id": "i1wbdDYaj73g"
      },
      "source": [
        "### Predicting Score using the Model"
      ]
    },
    {
      "cell_type": "code",
      "metadata": {
        "id": "V3MPsfyzj73g",
        "colab": {
          "base_uri": "https://localhost:8080/",
          "height": 0
        },
        "outputId": "0ab4f44e-88ea-4c30-8f3f-78b65d866185"
      },
      "source": [
        "# Predicting Model Score based on Test Data Set\n",
        "\n",
        "y_pred = model.predict(x_test)\n",
        "\n",
        "# plotting actual v/s Predicted values\n",
        "plt.plot(x_test, y_pred, color=\"green\", label='Predicted Values')\n",
        "\n",
        "plt.scatter(x_test, y_test, label='Actual Values')\n",
        "plt.xlabel(\"No of Hours Studied\", fontsize= \"large\")\n",
        "plt.ylabel(\"Percentage Score\", fontsize= \"large\")\n",
        "\n",
        "plt.legend()\n",
        "\n",
        "plt.show()\n"
      ],
      "execution_count": 44,
      "outputs": [
        {
          "output_type": "display_data",
          "data": {
            "image/png": "[encoded data removed]",
            "text/plain": [
              "<Figure size 432x288 with 1 Axes>"
            ]
          },
          "metadata": {
            "tags": [],
            "needs_background": "light"
          }
        }
      ]
    },
    {
      "cell_type": "markdown",
      "metadata": {
        "id": "1I5oBgCGj73h"
      },
      "source": [
        "### Testing & Prediction Score for 9.25 hrs/ day study"
      ]
    },
    {
      "cell_type": "code",
      "metadata": {
        "id": "gOyvZukKj73h",
        "colab": {
          "base_uri": "https://localhost:8080/"
        },
        "outputId": "caed4869-ef8b-43d2-ef6f-a00456b930df"
      },
      "source": [
        "hours= [[9.25]]\n",
        "pred_score = model.predict(hours)\n",
        "print(f\"Number of hours = {hours}\")  \n",
        "print(f\"Prediction Score = {pred_score}\")"
      ],
      "execution_count": 45,
      "outputs": [
        {
          "output_type": "stream",
          "text": [
            "Number of hours = [[9.25]]\n",
            "Prediction Score = [[92.67022038]]\n"
          ],
          "name": "stdout"
        }
      ]
    },
    {
      "cell_type": "code",
      "metadata": {
        "id": "aVZ5VCpXj73i",
        "colab": {
          "base_uri": "https://localhost:8080/",
          "height": 282
        },
        "outputId": "a33c9adb-267a-4552-ce32-369c2710defb"
      },
      "source": [
        "# Plotting predicted value on the graph\n",
        "\n",
        "plt.plot(x_test, y_pred, color=\"green\", label='Predicted Values')\n",
        "plt.scatter(hours, pred_score, marker ='o', c='r', label='Predicted Score')\n",
        "plt.scatter(x_test, y_test, label='Actual Values')\n",
        "plt.xlabel(\"No of Hours Studied\", fontsize= \"large\")\n",
        "plt.ylabel(\"Percentage Score\", fontsize= \"large\")\n",
        "plt.legend()\n",
        "plt.show()"
      ],
      "execution_count": 46,
      "outputs": [
        {
          "output_type": "display_data",
          "data": {
            "image/png": "[encoded data removed]",
            "text/plain": [
              "<Figure size 432x288 with 1 Axes>"
            ]
          },
          "metadata": {
            "tags": [],
            "needs_background": "light"
          }
        }
      ]
    },
    {
      "cell_type": "markdown",
      "metadata": {
        "id": "eU-kuqT-j73j"
      },
      "source": [
        "###### Evaluating Model Using  r squared score (Coefficient of determination)\n",
        "\n"
      ]
    },
    {
      "cell_type": "code",
      "metadata": {
        "id": "LWaLnPnAj73j",
        "colab": {
          "base_uri": "https://localhost:8080/"
        },
        "outputId": "0ce617d2-6c51-4478-a9d4-e6dee3c15863"
      },
      "source": [
        "# Calculation of model score\n",
        "model.score(x_test,y_test)"
      ],
      "execution_count": 53,
      "outputs": [
        {
          "output_type": "execute_result",
          "data": {
            "text/plain": [
              "0.9435488190277577"
            ]
          },
          "metadata": {
            "tags": []
          },
          "execution_count": 53
        }
      ]
    },
    {
      "cell_type": "markdown",
      "metadata": {
        "id": "GfUK54zMj73k"
      },
      "source": [
        "Interpretation :- 94.35% variation in dependent variable(Scores) are explained by independent variable(Hours) in the model."
      ]
    },
    {
      "cell_type": "markdown",
      "metadata": {
        "id": "RU6HF_noj73k"
      },
      "source": [
        "### Conclusion\n",
        "#### For a student studying 9.25Hrs a day , the model predicts his score as 92.67022\n"
      ]
    }
  ]
}